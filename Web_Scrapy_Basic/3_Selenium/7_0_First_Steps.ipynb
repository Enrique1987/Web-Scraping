{
 "cells": [
  {
   "cell_type": "code",
   "execution_count": 4,
   "metadata": {},
   "outputs": [
    {
     "name": "stdout",
     "output_type": "stream",
     "text": [
      "Requirement already up-to-date: selenium in c:\\programdata\\anaconda3\\lib\\site-packages (3.141.0)\n",
      "Requirement already satisfied, skipping upgrade: urllib3 in c:\\programdata\\anaconda3\\lib\\site-packages (from selenium) (1.25.8)\n"
     ]
    }
   ],
   "source": [
    "import sys\n",
    "!{sys.executable} -m pip install -U selenium"
   ]
  },
  {
   "cell_type": "code",
   "execution_count": 5,
   "metadata": {},
   "outputs": [
    {
     "name": "stderr",
     "output_type": "stream",
     "text": [
      "[WDM] - Current google-chrome version is 84.0.4147\n",
      "[WDM] - Get LATEST driver version for 84.0.4147\n"
     ]
    },
    {
     "name": "stdout",
     "output_type": "stream",
     "text": [
      " \n"
     ]
    },
    {
     "name": "stderr",
     "output_type": "stream",
     "text": [
      "[WDM] - Driver [C:\\Users\\U723303\\.wdm\\drivers\\chromedriver\\win32\\84.0.4147.30\\chromedriver.exe] found in cache\n"
     ]
    }
   ],
   "source": [
    "from selenium.webdriver.common.keys import Keys\n",
    "from selenium import webdriver\n",
    "from webdriver_manager.chrome import ChromeDriverManager\n",
    "\n",
    "chrome_driver = webdriver.Chrome(ChromeDriverManager().install())\n",
    "\n",
    "\n",
    "\n",
    "#chrome_driver = webdriver.Chrome(\"chromedriver.exe\")\n",
    "\n",
    "chrome_driver.get('https://www.w3schools.com/html/html_forms.asp')\n",
    "\n",
    "chrome_driver.find_element_by_id('fname').clear()\n",
    "chrome_driver.find_element_by_id('lname').clear()\n",
    "\n",
    "input_form = chrome_driver.find_element_by_id(\"fname\")\n",
    "input_form.send_keys('Enrique')\n",
    "\n",
    "last_name = chrome_driver.find_element_by_id(\"lname\")\n",
    "last_name.send_keys('Benito Casado')\n",
    "\n",
    "\n"
   ]
  },
  {
   "cell_type": "code",
   "execution_count": 10,
   "metadata": {},
   "outputs": [
    {
     "name": "stderr",
     "output_type": "stream",
     "text": [
      "[WDM] - Current google-chrome version is 84.0.4147\n",
      "[WDM] - Get LATEST driver version for 84.0.4147\n",
      "[WDM] - Get LATEST driver version for 84.0.4147\n",
      "[WDM] - Trying to download new driver from http://chromedriver.storage.googleapis.com/84.0.4147.30/chromedriver_win32.zip\n"
     ]
    },
    {
     "name": "stdout",
     "output_type": "stream",
     "text": [
      " \n"
     ]
    },
    {
     "name": "stderr",
     "output_type": "stream",
     "text": [
      "[WDM] - Driver has been saved in cache [C:\\Users\\U723303\\.wdm\\drivers\\chromedriver\\win32\\84.0.4147.30]\n"
     ]
    }
   ],
   "source": [
    "from selenium.webdriver.common.keys import Keys\n",
    "from selenium import webdriver\n",
    "from webdriver_manager.chrome import ChromeDriverManager\n",
    "\n",
    "chrome_driver = webdriver.Chrome(ChromeDriverManager().install())\n",
    "\n",
    "\n",
    "\n",
    "#chrome_driver = webdriver.Chrome(\"chromedriver.exe\")\n",
    "\n",
    "chrome_driver.get('https://www.w3schools.com/html/html_forms.asp')\n",
    "\n",
    "chrome_driver.find_element_by_id('fname').clear()\n",
    "chrome_driver.find_element_by_id('lname').clear()\n",
    "\n",
    "input_form = chrome_driver.find_element_by_id(\"fname\")\n",
    "input_form.send_keys('Enrique')\n",
    "\n",
    "last_name = chrome_driver.find_element_by_id(\"lname\")\n",
    "last_name.send_keys('Benito Casado')\n",
    "\n"
   ]
  },
  {
   "cell_type": "markdown",
   "metadata": {},
   "source": [
    "# Data Science Central"
   ]
  },
  {
   "cell_type": "code",
   "execution_count": 21,
   "metadata": {},
   "outputs": [
    {
     "name": "stderr",
     "output_type": "stream",
     "text": [
      "[WDM] - Current google-chrome version is 84.0.4147\n",
      "[WDM] - Get LATEST driver version for 84.0.4147\n",
      "[WDM] - Driver [C:\\Users\\U723303\\.wdm\\drivers\\chromedriver\\win32\\84.0.4147.30\\chromedriver.exe] found in cache\n"
     ]
    },
    {
     "name": "stdout",
     "output_type": "stream",
     "text": [
      " \n"
     ]
    }
   ],
   "source": [
    "from selenium.webdriver.common.keys import Keys\n",
    "from selenium import webdriver\n",
    "from webdriver_manager.chrome import ChromeDriverManager\n",
    "import time\n",
    "\n",
    "chrome_driver = webdriver.Chrome(ChromeDriverManager().install())\n",
    "\n",
    "\n",
    "\n",
    "#chrome_driver = webdriver.Chrome(\"chromedriver.exe\")\n",
    "\n",
    "chrome_driver.get('https://www.datasciencecentral.com/main/authorization/signIn?target=https%3A%2F%2Fwww.datasciencecentral.com%2F')\n",
    "\n",
    "\n",
    "input_form = chrome_driver.find_element_by_id(\"signin_email\")\n",
    "input_form.send_keys('XXX')\n",
    "\n",
    "input_form = chrome_driver.find_element_by_id(\"signin_password\")\n",
    "input_form.send_keys('XXX')\n",
    "\n",
    "#time.sleep(2)\n",
    "\n",
    "input_form.send_keys(Keys.ENTER)\n",
    "\n",
    "time.sleep(2)\n",
    "Akzeptieren\n",
    "\n",
    "#chrome_driver.close()"
   ]
  },
  {
   "cell_type": "code",
   "execution_count": null,
   "metadata": {},
   "outputs": [],
   "source": []
  },
  {
   "cell_type": "code",
   "execution_count": null,
   "metadata": {},
   "outputs": [],
   "source": []
  }
 ],
 "metadata": {
  "kernelspec": {
   "display_name": "Python 3",
   "language": "python",
   "name": "python3"
  },
  "language_info": {
   "codemirror_mode": {
    "name": "ipython",
    "version": 3
   },
   "file_extension": ".py",
   "mimetype": "text/x-python",
   "name": "python",
   "nbconvert_exporter": "python",
   "pygments_lexer": "ipython3",
   "version": "3.7.6"
  }
 },
 "nbformat": 4,
 "nbformat_minor": 2
}
