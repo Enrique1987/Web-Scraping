{
 "cells": [
  {
   "cell_type": "code",
   "execution_count": 8,
   "metadata": {},
   "outputs": [
    {
     "data": {
      "text/plain": [
       "True"
      ]
     },
     "execution_count": 8,
     "metadata": {},
     "output_type": "execute_result"
    }
   ],
   "source": [
    "from selenium.webdriver.common.keys import Keys\n",
    "from selenium import webdriver\n",
    "import time\n",
    "from webdriver_manager.chrome import ChromeDriverManager\n",
    "chrome_driver = webdriver.Chrome(\"chromedriver.exe\")\n",
    "\n",
    "import time\n",
    "timestr = str(time.strftime(\"%Y%m%d-%H%M%S\"))\n",
    "\n",
    "#captura = webdriver.Chrome(ChromeDriverManager().install())\n",
    "chrome_driver.get(\"https://www.youtube.com/c/AlvaroChirou\")\n",
    "\n",
    "chrome_driver.get_screenshot_as_file(\"C:\\\\Users\\\\ejemplo\"+timestr+\".png\")"
   ]
  }
 ],
 "metadata": {
  "kernelspec": {
   "display_name": "Python 3",
   "language": "python",
   "name": "python3"
  },
  "language_info": {
   "codemirror_mode": {
    "name": "ipython",
    "version": 3
   },
   "file_extension": ".py",
   "mimetype": "text/x-python",
   "name": "python",
   "nbconvert_exporter": "python",
   "pygments_lexer": "ipython3",
   "version": "3.7.6"
  }
 },
 "nbformat": 4,
 "nbformat_minor": 4
}
