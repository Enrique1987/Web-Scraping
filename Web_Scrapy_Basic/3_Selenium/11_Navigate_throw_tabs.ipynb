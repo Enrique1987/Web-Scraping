{
 "cells": [
  {
   "cell_type": "code",
   "execution_count": 1,
   "metadata": {},
   "outputs": [],
   "source": [
    "import unittest\n",
    "from selenium.webdriver.common.keys import Keys\n",
    "from selenium import webdriver\n",
    "import time\n",
    "from webdriver_manager.chrome import ChromeDriverManager\n",
    "from selenium.webdriver.support.ui import Select\n",
    "\n",
    "chrome_driver = webdriver.Chrome(\"chromedriver.exe\")\n",
    "\n",
    "\n",
    "#chrome_driver = webdriver.Chrome(ChromeDriverManager().install())\n",
    "chrome_options = webdriver.ChromeOptions()\n",
    "chrome_options.add_argument('--no-sandbox')\n",
    "driver = chrome_driver\n",
    "\n",
    "driver.get(\"https://achirou.com\")\n",
    "time.sleep(1)\n",
    "driver.get(\"https://itoo.dev/courses/author/774948\")\n",
    "time.sleep(1)\n",
    "driver.get(\"https://google.com\")\n",
    "time.sleep(1)\n",
    "driver.back()\n",
    "time.sleep(1)\n",
    "driver.back()\n",
    "time.sleep(1)\n",
    "driver.forward()\n",
    "time.sleep(1)\n",
    "\n"
   ]
  },
  {
   "cell_type": "markdown",
   "metadata": {},
   "source": [
    "# Select option in a drop down"
   ]
  },
  {
   "cell_type": "code",
   "execution_count": 6,
   "metadata": {},
   "outputs": [],
   "source": [
    "import unittest\n",
    "from selenium.webdriver.common.keys import Keys\n",
    "from selenium import webdriver\n",
    "import time\n",
    "from webdriver_manager.chrome import ChromeDriverManager\n",
    "from selenium.webdriver.support.ui import Select\n",
    "\n",
    "#chrome_driver = webdriver.Chrome(ChromeDriverManager().install())\n",
    "chrome_driver = webdriver.Chrome(\"chromedriver.exe\")\n",
    "\n",
    "\n",
    "chrome_options = webdriver.ChromeOptions()\n",
    "chrome_options.add_argument('--no-sandbox')\n",
    "driver = chrome_driver\n",
    "\n",
    "\n",
    "driver.get(\"https://www.w3schools.com/howto/howto_custom_select.asp\")\n",
    "time.sleep(2)\n",
    "\n",
    "\n",
    "#\"//*[@id='main']/div[2]/a[2]\"\n",
    "#//*[@id='main']/div[3]/div[1]/select\n",
    "\n",
    "seleccion = driver.find_element_by_xpath(\"//*[@id='main']/div[3]/div[1]/select\")\n",
    "\n",
    "opcion = seleccion.find_elements_by_tag_name(\"option\")\n",
    "time.sleep(2)\n",
    "\n",
    "for x in opcion:\n",
    "    x.click()\n",
    "    time.sleep(1)\n",
    "\n",
    "selec = Select(driver.find_element_by_xpath(\"//*[@id='main']/div[3]/div[1]/select\"))\n",
    "selec.select_by_value(\"5\")"
   ]
  },
  {
   "cell_type": "code",
   "execution_count": null,
   "metadata": {},
   "outputs": [],
   "source": []
  }
 ],
 "metadata": {
  "kernelspec": {
   "display_name": "Python 3",
   "language": "python",
   "name": "python3"
  },
  "language_info": {
   "codemirror_mode": {
    "name": "ipython",
    "version": 3
   },
   "file_extension": ".py",
   "mimetype": "text/x-python",
   "name": "python",
   "nbconvert_exporter": "python",
   "pygments_lexer": "ipython3",
   "version": "3.7.6"
  }
 },
 "nbformat": 4,
 "nbformat_minor": 4
}
