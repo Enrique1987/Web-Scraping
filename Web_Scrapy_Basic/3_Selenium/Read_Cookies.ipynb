{
 "cells": [
  {
   "cell_type": "markdown",
   "metadata": {},
   "source": [
    "# Reading Cookies"
   ]
  },
  {
   "cell_type": "code",
   "execution_count": 2,
   "metadata": {},
   "outputs": [
    {
     "name": "stderr",
     "output_type": "stream",
     "text": [
      "[WDM] - Current google-chrome version is 84.0.4147\n",
      "[WDM] - Get LATEST driver version for 84.0.4147\n",
      "[WDM] - Driver [C:\\Users\\U723303\\.wdm\\drivers\\chromedriver\\win32\\84.0.4147.30\\chromedriver.exe] found in cache\n"
     ]
    },
    {
     "name": "stdout",
     "output_type": "stream",
     "text": [
      " \n",
      "[{'domain': 'achirou.com', 'expiry': 1609971706, 'httpOnly': False, 'name': '__smVID', 'path': '/', 'secure': False, 'value': '4787e163932ece9a1227b18db3f4f665184bff7303927150e063bbf7c1968044'}, {'domain': 'achirou.com', 'expiry': 1638915707, 'httpOnly': False, 'name': '__smToken', 'path': '/', 'secure': False, 'value': 'DwO6nHNFaPVrzfAiLVVJVhhT'}, {'domain': '.achirou.com', 'expiry': 1641075711, 'httpOnly': False, 'name': '__gads', 'path': '/', 'secure': False, 'value': 'ID=0e65f2c569cd358e-22f00e6f59b900ac:T=1607379711:RT=1607379711:S=ALNI_MYh_L0dGOnL_lVWVkaC3-7izx1_hw'}, {'domain': '.achirou.com', 'expiry': 1607379766, 'httpOnly': False, 'name': '_gat_gtag_UA_129775610_1', 'path': '/', 'secure': False, 'value': '1'}, {'domain': '.achirou.com', 'expiry': 1607466106, 'httpOnly': False, 'name': '_gid', 'path': '/', 'secure': False, 'value': 'GA1.2.1922367437.1607379706'}, {'domain': '.achirou.com', 'expiry': 1670451706, 'httpOnly': False, 'name': '_ga', 'path': '/', 'secure': False, 'value': 'GA1.2.1467426964.1607379706'}, {'domain': '.achirou.com', 'expiry': 1607638906, 'httpOnly': False, 'name': 'tk_r3d', 'path': '/', 'secure': False, 'value': '%22%22'}, {'domain': '.achirou.com', 'expiry': 1638915706, 'httpOnly': False, 'name': 'tk_lr', 'path': '/', 'secure': False, 'value': '%22%22'}, {'domain': '.achirou.com', 'expiry': 1765059706, 'httpOnly': False, 'name': 'tk_or', 'path': '/', 'secure': False, 'value': '%22%22'}, {'domain': '.achirou.com', 'expiry': 1609971704, 'httpOnly': True, 'name': '__cfduid', 'path': '/', 'sameSite': 'Lax', 'secure': False, 'value': 'd34e73d24dff882a63030dba61d1161561607379709'}]\n"
     ]
    }
   ],
   "source": [
    "from selenium.webdriver.common.keys import Keys\n",
    "from selenium import webdriver\n",
    "import time\n",
    "from webdriver_manager.chrome import ChromeDriverManager\n",
    "#chrome_driver = webdriver.Chrome(\"chromedriver.exe\")\n",
    "\n",
    "cookie = webdriver.Chrome(ChromeDriverManager().install())\n",
    "\n",
    "cookie.get(\"https://achirou.com/\")\n",
    "time.sleep(2)\n",
    "\n",
    "all_cookie = cookie.get_cookies()\n",
    "\n",
    "print(all_cookie)"
   ]
  },
  {
   "cell_type": "code",
   "execution_count": null,
   "metadata": {},
   "outputs": [],
   "source": []
  }
 ],
 "metadata": {
  "kernelspec": {
   "display_name": "Python 3",
   "language": "python",
   "name": "python3"
  },
  "language_info": {
   "codemirror_mode": {
    "name": "ipython",
    "version": 3
   },
   "file_extension": ".py",
   "mimetype": "text/x-python",
   "name": "python",
   "nbconvert_exporter": "python",
   "pygments_lexer": "ipython3",
   "version": "3.7.6"
  }
 },
 "nbformat": 4,
 "nbformat_minor": 4
}
