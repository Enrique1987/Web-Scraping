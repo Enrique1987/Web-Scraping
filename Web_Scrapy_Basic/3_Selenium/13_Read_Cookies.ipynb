{
 "cells": [
  {
   "cell_type": "markdown",
   "metadata": {},
   "source": [
    "# Reading Cookies"
   ]
  },
  {
   "cell_type": "code",
   "execution_count": 1,
   "metadata": {},
   "outputs": [
    {
     "name": "stdout",
     "output_type": "stream",
     "text": [
      "[{'domain': 'achirou.com', 'expiry': 1611009764, 'httpOnly': False, 'name': '__smVID', 'path': '/', 'secure': False, 'value': '849c3e3cd76493d429b118f4ba79f2898e552a3b1a8fa3f5b86a7e639db3ca7e'}, {'domain': 'achirou.com', 'expiry': 1639953764, 'httpOnly': False, 'name': '__smToken', 'path': '/', 'secure': False, 'value': 'b9QZAfz1a4vRS4vvifYx0cu5'}, {'domain': '.achirou.com', 'expiry': 1642113766, 'httpOnly': False, 'name': '__gads', 'path': '/', 'secure': False, 'value': 'ID=1a97f97f3358580b-226b48278fa6001b:T=1608417766:RT=1608417766:S=ALNI_MaWI7uN3LvJAsO8timRu2znj1wmyQ'}, {'domain': '.achirou.com', 'expiry': 1608417823, 'httpOnly': False, 'name': '_gat_gtag_UA_129775610_1', 'path': '/', 'secure': False, 'value': '1'}, {'domain': '.achirou.com', 'expiry': 1608504163, 'httpOnly': False, 'name': '_gid', 'path': '/', 'secure': False, 'value': 'GA1.2.716917603.1608417764'}, {'domain': '.achirou.com', 'expiry': 1671489763, 'httpOnly': False, 'name': '_ga', 'path': '/', 'secure': False, 'value': 'GA1.2.927551646.1608417764'}, {'domain': '.achirou.com', 'expiry': 1608676963, 'httpOnly': False, 'name': 'tk_r3d', 'path': '/', 'secure': False, 'value': '%22%22'}, {'domain': '.achirou.com', 'expiry': 1639953763, 'httpOnly': False, 'name': 'tk_lr', 'path': '/', 'secure': False, 'value': '%22%22'}, {'domain': '.achirou.com', 'expiry': 1766097763, 'httpOnly': False, 'name': 'tk_or', 'path': '/', 'secure': False, 'value': '%22%22'}, {'domain': '.achirou.com', 'expiry': 1611009762, 'httpOnly': True, 'name': '__cfduid', 'path': '/', 'sameSite': 'Lax', 'secure': False, 'value': 'd3bdd3de141649fd180b52300a16412501608417764'}]\n"
     ]
    }
   ],
   "source": [
    "from selenium.webdriver.common.keys import Keys\n",
    "from selenium import webdriver\n",
    "import time\n",
    "from webdriver_manager.chrome import ChromeDriverManager\n",
    "cookie = webdriver.Chrome(\"chromedriver.exe\")\n",
    "\n",
    "#cookie = webdriver.Chrome(ChromeDriverManager().install())\n",
    "\n",
    "cookie.get(\"https://achirou.com/\")\n",
    "time.sleep(2)\n",
    "\n",
    "all_cookie = cookie.get_cookies()\n",
    "\n",
    "print(all_cookie)"
   ]
  },
  {
   "cell_type": "code",
   "execution_count": null,
   "metadata": {},
   "outputs": [],
   "source": []
  }
 ],
 "metadata": {
  "kernelspec": {
   "display_name": "Python 3",
   "language": "python",
   "name": "python3"
  },
  "language_info": {
   "codemirror_mode": {
    "name": "ipython",
    "version": 3
   },
   "file_extension": ".py",
   "mimetype": "text/x-python",
   "name": "python",
   "nbconvert_exporter": "python",
   "pygments_lexer": "ipython3",
   "version": "3.7.6"
  }
 },
 "nbformat": 4,
 "nbformat_minor": 4
}
