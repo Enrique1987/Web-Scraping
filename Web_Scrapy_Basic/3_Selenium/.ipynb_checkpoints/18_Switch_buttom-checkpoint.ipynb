{
 "cells": [
  {
   "cell_type": "markdown",
   "metadata": {},
   "source": [
    "### Switch"
   ]
  },
  {
   "cell_type": "code",
   "execution_count": 1,
   "metadata": {},
   "outputs": [],
   "source": [
    "from selenium.webdriver.common.keys import Keys\n",
    "from selenium import webdriver\n",
    "import time\n",
    "from webdriver_manager.chrome import ChromeDriverManager\n",
    "driver = webdriver.Chrome(\"chromedriver.exe\")\n",
    "\n",
    "#driver = webdriver.Chrome(ChromeDriverManager().install())\n",
    "\n",
    "\n",
    "\n",
    "driver.get(\"https://www.w3schools.com/howto/howto_css_switch.asp\")\n",
    "time.sleep(2)\n",
    "#accepting cookies\n",
    "click_en_campo = driver.find_element_by_id('accept-choices')\n",
    "click = click_en_campo.click()\n",
    "\n",
    "switch = driver.find_element_by_xpath(\"//*[@id='main']/label[3]/div\")\n",
    "switch.click()\n",
    "time.sleep(2)\n",
    "switch.click()\n",
    "time.sleep(2)\n",
    "\n",
    "#driver.close()"
   ]
  }
 ],
 "metadata": {
  "kernelspec": {
   "display_name": "Python 3",
   "language": "python",
   "name": "python3"
  },
  "language_info": {
   "codemirror_mode": {
    "name": "ipython",
    "version": 3
   },
   "file_extension": ".py",
   "mimetype": "text/x-python",
   "name": "python",
   "nbconvert_exporter": "python",
   "pygments_lexer": "ipython3",
   "version": "3.7.6"
  }
 },
 "nbformat": 4,
 "nbformat_minor": 4
}
