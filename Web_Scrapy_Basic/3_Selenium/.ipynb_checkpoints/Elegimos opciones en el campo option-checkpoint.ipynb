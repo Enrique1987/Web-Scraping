{
 "cells": [
  {
   "cell_type": "code",
   "execution_count": 3,
   "metadata": {},
   "outputs": [
    {
     "name": "stderr",
     "output_type": "stream",
     "text": [
      "[WDM] - Current google-chrome version is 84.0.4147\n",
      "[WDM] - Get LATEST driver version for 84.0.4147\n"
     ]
    },
    {
     "name": "stdout",
     "output_type": "stream",
     "text": [
      " \n"
     ]
    },
    {
     "name": "stderr",
     "output_type": "stream",
     "text": [
      "[WDM] - Driver [C:\\Users\\U723303\\.wdm\\drivers\\chromedriver\\win32\\84.0.4147.30\\chromedriver.exe] found in cache\n"
     ]
    }
   ],
   "source": [
    "from selenium.webdriver.common.keys import Keys\n",
    "from selenium import webdriver\n",
    "import time\n",
    "from webdriver_manager.chrome import ChromeDriverManager\n",
    "#chrome_driver = webdriver.Chrome(\"chromedriver.exe\")\n",
    "\n",
    "\n",
    "chrome_driver = webdriver.Chrome(ChromeDriverManager().install())\n",
    "\n",
    "\n",
    "\n",
    "\n",
    "\n",
    "\n",
    "chrome_driver.get('http://eportal.miteco.gob.es/BoleHWeb/')\n",
    "\n",
    "\n",
    "option = 'select[name=\"year\"] option[value=\"12\"]'\n",
    "\n",
    "accion = chrome_driver.find_element_by_css_selector(option)\n",
    "\n",
    "click = accion.click()\n",
    "\n",
    "time.sleep(2)\n",
    "\n",
    "option2 = 'select[name=\"month\"] option[value=\"5\"]'\n",
    "\n",
    "accion2 = chrome_driver.find_element_by_css_selector(option2)\n",
    "\n",
    "click2 = accion2.click()"
   ]
  },
  {
   "cell_type": "markdown",
   "metadata": {},
   "source": [
    "# Pagina w3school"
   ]
  },
  {
   "cell_type": "code",
   "execution_count": 6,
   "metadata": {},
   "outputs": [
    {
     "name": "stderr",
     "output_type": "stream",
     "text": [
      "[WDM] - Current google-chrome version is 84.0.4147\n",
      "[WDM] - Get LATEST driver version for 84.0.4147\n",
      "[WDM] - Driver [C:\\Users\\U723303\\.wdm\\drivers\\chromedriver\\win32\\84.0.4147.30\\chromedriver.exe] found in cache\n"
     ]
    },
    {
     "name": "stdout",
     "output_type": "stream",
     "text": [
      " \n"
     ]
    },
    {
     "ename": "NameError",
     "evalue": "name 'input_form' is not defined",
     "output_type": "error",
     "traceback": [
      "\u001b[1;31m---------------------------------------------------------------------------\u001b[0m",
      "\u001b[1;31mNameError\u001b[0m                                 Traceback (most recent call last)",
      "\u001b[1;32m<ipython-input-6-4ee26c41c505>\u001b[0m in \u001b[0;36m<module>\u001b[1;34m\u001b[0m\n\u001b[0;32m     21\u001b[0m \u001b[1;33m\u001b[0m\u001b[0m\n\u001b[0;32m     22\u001b[0m \u001b[1;31m#input_form = chrome_driver.find_element_by_id(\"fname\")\u001b[0m\u001b[1;33m\u001b[0m\u001b[1;33m\u001b[0m\u001b[1;33m\u001b[0m\u001b[0m\n\u001b[1;32m---> 23\u001b[1;33m \u001b[0minput_form\u001b[0m\u001b[1;33m.\u001b[0m\u001b[0msend_keys\u001b[0m\u001b[1;33m(\u001b[0m\u001b[1;34m'Enrique'\u001b[0m\u001b[1;33m)\u001b[0m\u001b[1;33m\u001b[0m\u001b[1;33m\u001b[0m\u001b[0m\n\u001b[0m\u001b[0;32m     24\u001b[0m '''\n\u001b[0;32m     25\u001b[0m \u001b[1;33m\u001b[0m\u001b[0m\n",
      "\u001b[1;31mNameError\u001b[0m: name 'input_form' is not defined"
     ]
    }
   ],
   "source": [
    "from selenium.webdriver.common.keys import Keys\n",
    "from selenium import webdriver\n",
    "import time\n",
    "from webdriver_manager.chrome import ChromeDriverManager\n",
    "#chrome_driver = webdriver.Chrome(\"chromedriver.exe\")\n",
    "\n",
    "\n",
    "chrome_driver = webdriver.Chrome(ChromeDriverManager().install())\n",
    "\n",
    "\n",
    "\n",
    "\n",
    "\n",
    "\n",
    "chrome_driver.get('https://www.w3schools.com/html/html_forms.asp')\n",
    "\n",
    "\n",
    "option = '#loginform > div:nth-child(2) > input[type=email]'\n",
    "\n",
    "accion = chrome_driver.find_element_by_css_selector(option)\n",
    "\n",
    "#input_form = chrome_driver.find_element_by_id(\"fname\")\n",
    "accion.send_keys('Enrique')\n",
    "'''\n",
    "\n",
    "click = accion.click()\n",
    "\n",
    "time.sleep(2)\n",
    "\n",
    "option2 = 'select[name=\"month\"] option[value=\"5\"]'\n",
    "\n",
    "accion2 = chrome_driver.find_element_by_css_selector(option2)\n",
    "\n",
    "click2 = accion2.click()\n",
    "\n",
    "'''"
   ]
  },
  {
   "cell_type": "code",
   "execution_count": null,
   "metadata": {},
   "outputs": [],
   "source": [
    "#loginform > div:nth-child(2) > input[type=email]"
   ]
  },
  {
   "cell_type": "code",
   "execution_count": null,
   "metadata": {},
   "outputs": [],
   "source": []
  },
  {
   "cell_type": "code",
   "execution_count": null,
   "metadata": {},
   "outputs": [],
   "source": []
  },
  {
   "cell_type": "code",
   "execution_count": null,
   "metadata": {},
   "outputs": [],
   "source": []
  }
 ],
 "metadata": {
  "kernelspec": {
   "display_name": "Python 3",
   "language": "python",
   "name": "python3"
  },
  "language_info": {
   "codemirror_mode": {
    "name": "ipython",
    "version": 3
   },
   "file_extension": ".py",
   "mimetype": "text/x-python",
   "name": "python",
   "nbconvert_exporter": "python",
   "pygments_lexer": "ipython3",
   "version": "3.7.6"
  }
 },
 "nbformat": 4,
 "nbformat_minor": 2
}
