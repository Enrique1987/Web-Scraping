{
 "cells": [
  {
   "cell_type": "markdown",
   "metadata": {},
   "source": [
    "## Read Table and print it"
   ]
  },
  {
   "cell_type": "code",
   "execution_count": 1,
   "metadata": {},
   "outputs": [
    {
     "name": "stdout",
     "output_type": "stream",
     "text": [
      "Alfreds Futterkiste Maria Anders Germany \n",
      "Centro comercial Moctezuma Francisco Chang Mexico \n",
      "Ernst Handel Roland Mendel Austria \n",
      "Island Trading Helen Bennett UK \n",
      "Laughing Bacchus Winecellars Yoshi Tannamuri Canada \n",
      "Magazzini Alimentari Riuniti Giovanni Rovelli Italy \n"
     ]
    }
   ],
   "source": [
    "from selenium.webdriver.common.keys import Keys\n",
    "from selenium import webdriver\n",
    "import time\n",
    "from webdriver_manager.chrome import ChromeDriverManager\n",
    "driver = webdriver.Chrome(\"chromedriver.exe\")\n",
    "\n",
    "#driver = webdriver.Chrome(ChromeDriverManager().install())\n",
    "\n",
    "driver.get(\"https://www.w3schools.com/html/html_tables.asp\")\n",
    "time.sleep(2)\n",
    "\n",
    "#accepting cookies\n",
    "\n",
    "click_en_campo = driver.find_element_by_id('accept-choices')\n",
    "click = click_en_campo.click()\n",
    "\n",
    "\n",
    "row = len(driver.find_elements_by_xpath(\"//*[@id='customers']/tbody/tr\"))\n",
    "column = len(driver.find_elements_by_xpath(\"//*[@id='customers']/tbody/tr[1]/th\"))\n",
    "\n",
    "for x in range(2,row+1):\n",
    "    for y in range(1,column+1):\n",
    "        showtable = driver.find_element_by_xpath(\"//*[@id='customers']/tbody/tr[\"+str(x)+\"]/td[\"+str(y)+\"]\").text\n",
    "        print(showtable, end=' ')\n",
    "    print()"
   ]
  },
  {
   "cell_type": "code",
   "execution_count": 3,
   "metadata": {},
   "outputs": [],
   "source": [
    "def printPicnic2(itemsDict,leftWidth,rightWidth):\n",
    "    print('PICNIC ITEMS'.center(leftWidth + rightWidth,'-'))\n",
    "    for k,v in itemsDict.items():\n",
    "        print(k.ljust(leftWidth,'.')+ str(v).rjust(rightWidth))"
   ]
  },
  {
   "cell_type": "code",
   "execution_count": 4,
   "metadata": {},
   "outputs": [
    {
     "name": "stdout",
     "output_type": "stream",
     "text": [
      "---PICNIC ITEMS---\n",
      "apple........    3\n",
      "orange.......    2\n",
      "melon........    9\n",
      "pinaple......    3\n"
     ]
    }
   ],
   "source": [
    "printPicnic2({'apple':3,'orange':2,'melon':9,'pinaple':3},13,5)"
   ]
  },
  {
   "cell_type": "code",
   "execution_count": null,
   "metadata": {},
   "outputs": [],
   "source": []
  }
 ],
 "metadata": {
  "kernelspec": {
   "display_name": "Python 3",
   "language": "python",
   "name": "python3"
  },
  "language_info": {
   "codemirror_mode": {
    "name": "ipython",
    "version": 3
   },
   "file_extension": ".py",
   "mimetype": "text/x-python",
   "name": "python",
   "nbconvert_exporter": "python",
   "pygments_lexer": "ipython3",
   "version": "3.7.6"
  }
 },
 "nbformat": 4,
 "nbformat_minor": 4
}
