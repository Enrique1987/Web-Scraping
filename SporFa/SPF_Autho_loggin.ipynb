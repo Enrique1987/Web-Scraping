{
 "cells": [
  {
   "cell_type": "markdown",
   "metadata": {},
   "source": [
    "# Autologgin in SportFabrik"
   ]
  },
  {
   "cell_type": "code",
   "execution_count": 2,
   "metadata": {},
   "outputs": [
    {
     "name": "stderr",
     "output_type": "stream",
     "text": [
      "[WDM] - Current google-chrome version is 87.0.4280\n",
      "[WDM] - Get LATEST driver version for 87.0.4280\n",
      "[WDM] - Driver [C:\\Users\\U723303\\.wdm\\drivers\\chromedriver\\win32\\87.0.4280.88\\chromedriver.exe] found in cache\n"
     ]
    },
    {
     "name": "stdout",
     "output_type": "stream",
     "text": [
      " \n"
     ]
    }
   ],
   "source": [
    "from selenium.webdriver.common.keys import Keys\n",
    "from selenium import webdriver\n",
    "import time\n",
    "from webdriver_manager.chrome import ChromeDriverManager\n",
    "import os\n",
    "from selenium.webdriver.chrome.options import Options\n",
    "chrome_optionsme = Options()\n",
    "chrome_optionsme.add_argument(\"--incognito\")\n",
    "chrome_optionsme.add_argument(\"--window-size=1920x1080\")\n",
    "\n",
    "\n",
    "#chrome_driver = webdriver.Chrome(\"chromedriver.exe\")\n",
    "\n",
    "#puedes bajartelo \n",
    "driver = webdriver.Chrome(ChromeDriverManager().install(),options=chrome_optionsme)\n",
    "\n",
    "\n",
    "driver.get(\"https://sportfabrik.sportmeo.com/news/home\")\n",
    "\n",
    "time.sleep(2)\n",
    "\n",
    "#accept cookies\n",
    "cookies_ok = driver.find_element_by_id(\"btnCookiesAccept\")\n",
    "cookies_ok.click()\n",
    "\n",
    "# click login\n",
    "\n",
    "login = driver.find_element_by_class_name(\"navbar-link.linkLogin\")\n",
    "login.click()\n",
    "time.sleep(5)\n",
    "webemail = driver.find_element_by_class_name(\"form-control\")\n",
    "webemail.click()\n",
    "email = str(os.environ.get(\"email\"))\n",
    "webemail.send_keys(email)\n",
    "time.sleep(3)\n",
    "#password\n",
    "\n",
    "\n",
    "webpass = driver.find_element_by_name(\"inputPassword\")\n",
    "webpass.click()\n",
    "password = str(os.environ.get(\"password\"))\n",
    "webpass.send_keys(password)\n",
    "time.sleep(3)\n",
    "\n",
    "webpass.send_keys(Keys.ENTER)\n"
   ]
  },
  {
   "cell_type": "markdown",
   "metadata": {},
   "source": [
    "## End"
   ]
  },
  {
   "cell_type": "code",
   "execution_count": null,
   "metadata": {},
   "outputs": [],
   "source": []
  }
 ],
 "metadata": {
  "kernelspec": {
   "display_name": "Python 3",
   "language": "python",
   "name": "python3"
  },
  "language_info": {
   "codemirror_mode": {
    "name": "ipython",
    "version": 3
   },
   "file_extension": ".py",
   "mimetype": "text/x-python",
   "name": "python",
   "nbconvert_exporter": "python",
   "pygments_lexer": "ipython3",
   "version": "3.7.6"
  }
 },
 "nbformat": 4,
 "nbformat_minor": 4
}
